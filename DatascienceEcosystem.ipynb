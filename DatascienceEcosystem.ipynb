{
 "cells": [
  {
   "cell_type": "markdown",
   "id": "7f3580b1-d161-4d60-8057-30e170ea6768",
   "metadata": {},
   "source": [
    "# Data Science Tools and Ecosystem"
   ]
  },
  {
   "cell_type": "markdown",
   "id": "5cd4f64a-3bfa-403f-b192-c15c24341805",
   "metadata": {},
   "source": [
    "In this notebook, Data Science Tools and Ecosystem are summarized."
   ]
  },
  {
   "cell_type": "markdown",
   "id": "c438d4ad-4826-48ce-aafe-30aca4427102",
   "metadata": {},
   "source": [
    "**Objectives:**\n",
    " - List popular data science languages\n",
    " - List Data science libraries\n",
    " - List data science tools\n",
    " - Do arithmetic calculations"
   ]
  },
  {
   "cell_type": "markdown",
   "id": "503909f3-7560-4eaf-9f7f-4d3206ee9b4a",
   "metadata": {},
   "source": [
    "Some of the popular languages that Data Scientists use are:\n",
    "1.Python\n",
    "2.R\n",
    "3.SQL\n",
    "4.JAVA"
   ]
  },
  {
   "cell_type": "markdown",
   "id": "d84f6f72-9a4e-4b43-a17b-b9a1c541dad3",
   "metadata": {},
   "source": [
    "Some of the commonly used libraries used by Data Scientists include:\n",
    "1.Numpy\n",
    "2.Pandas\n",
    "3.Matplotlib\n",
    "4.Scikit Learn\n",
    "5.Keras\n",
    "6.Seaborn"
   ]
  },
  {
   "cell_type": "markdown",
   "id": "3a1f54d5-75a7-4c34-ab63-f584734272a7",
   "metadata": {},
   "source": [
    "Data Science Tools\n",
    "JupyterLab\n",
    "Spyder\n",
    "Visual Studio"
   ]
  },
  {
   "cell_type": "markdown",
   "id": "aa4ee487-a39d-43a8-baa0-35e11b3ab2c9",
   "metadata": {},
   "source": [
    "### Below are a few examples of evaluating arithmetic expressions in Python"
   ]
  },
  {
   "cell_type": "code",
   "execution_count": 1,
   "id": "1de42cbe-6447-4d95-9405-15fcee1f0c5e",
   "metadata": {
    "tags": []
   },
   "outputs": [
    {
     "data": {
      "text/plain": [
       "17"
      ]
     },
     "execution_count": 1,
     "metadata": {},
     "output_type": "execute_result"
    }
   ],
   "source": [
    "# This a simple arithmetic expression to mutiply then add integers\n",
    "(3*4)+5"
   ]
  },
  {
   "cell_type": "code",
   "execution_count": 2,
   "id": "13d07da6-868d-4be9-bca2-5078bdfd4299",
   "metadata": {
    "tags": []
   },
   "outputs": [
    {
     "data": {
      "text/plain": [
       "3.3333333333333335"
      ]
     },
     "execution_count": 2,
     "metadata": {},
     "output_type": "execute_result"
    }
   ],
   "source": [
    "# This will convert 200 minutes to hours by diving by 60\n",
    "200/60"
   ]
  },
  {
   "cell_type": "markdown",
   "id": "6acd5d47-b345-4ffa-ad29-957b10c5278a",
   "metadata": {
    "tags": []
   },
   "source": [
    "## Author\n",
    "Mohit Gaur"
   ]
  },
  {
   "cell_type": "code",
   "execution_count": null,
   "id": "6e8bdb3f-12df-455c-b264-9a0ebc3baaa8",
   "metadata": {},
   "outputs": [],
   "source": []
  }
 ],
 "metadata": {
  "kernelspec": {
   "display_name": "Python",
   "language": "python",
   "name": "conda-env-python-py"
  },
  "language_info": {
   "codemirror_mode": {
    "name": "ipython",
    "version": 3
   },
   "file_extension": ".py",
   "mimetype": "text/x-python",
   "name": "python",
   "nbconvert_exporter": "python",
   "pygments_lexer": "ipython3",
   "version": "3.7.12"
  }
 },
 "nbformat": 4,
 "nbformat_minor": 5
}
